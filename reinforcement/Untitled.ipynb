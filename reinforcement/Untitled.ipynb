{
 "cells": [
  {
   "cell_type": "code",
   "execution_count": null,
   "metadata": {
    "collapsed": true
   },
   "outputs": [],
   "source": []
  },
  {
   "cell_type": "code",
   "execution_count": null,
   "metadata": {
    "collapsed": true
   },
   "outputs": [],
   "source": []
  },
  {
   "cell_type": "code",
   "execution_count": null,
   "metadata": {
    "collapsed": true
   },
   "outputs": [],
   "source": []
  },
  {
   "cell_type": "code",
   "execution_count": null,
   "metadata": {
    "collapsed": true
   },
   "outputs": [],
   "source": []
  },
  {
   "cell_type": "code",
   "execution_count": null,
   "metadata": {
    "collapsed": true
   },
   "outputs": [],
   "source": []
  },
  {
   "cell_type": "code",
   "execution_count": null,
   "metadata": {
    "collapsed": true
   },
   "outputs": [],
   "source": []
  },
  {
   "cell_type": "code",
   "execution_count": null,
   "metadata": {
    "collapsed": true
   },
   "outputs": [],
   "source": []
  },
  {
   "cell_type": "code",
   "execution_count": null,
   "metadata": {
    "collapsed": true
   },
   "outputs": [],
   "source": []
  },
  {
   "cell_type": "code",
   "execution_count": null,
   "metadata": {
    "collapsed": true
   },
   "outputs": [],
   "source": []
  },
  {
   "cell_type": "code",
   "execution_count": 1,
   "metadata": {},
   "outputs": [
    {
     "ename": "NameError",
     "evalue": "name 'env' is not defined",
     "output_type": "error",
     "traceback": [
      "\u001b[0;31m---------------------------------------------------------------------------\u001b[0m",
      "\u001b[0;31mNameError\u001b[0m                                 Traceback (most recent call last)",
      "\u001b[0;32m<ipython-input-1-24484b7750a8>\u001b[0m in \u001b[0;36m<module>\u001b[0;34m()\u001b[0m\n\u001b[0;32m----> 1\u001b[0;31m \u001b[0menv\u001b[0m\u001b[0;34m.\u001b[0m\u001b[0mreset\u001b[0m\u001b[0;34m(\u001b[0m\u001b[0;34m)\u001b[0m\u001b[0;34m\u001b[0m\u001b[0m\n\u001b[0m\u001b[1;32m      2\u001b[0m \u001b[0;34m\u001b[0m\u001b[0m\n\u001b[1;32m      3\u001b[0m \u001b[0mstate\u001b[0m\u001b[0;34m,\u001b[0m\u001b[0mreward\u001b[0m\u001b[0;34m,\u001b[0m\u001b[0mdone\u001b[0m\u001b[0;34m,\u001b[0m\u001b[0m_\u001b[0m\u001b[0;34m=\u001b[0m\u001b[0menv\u001b[0m\u001b[0;34m.\u001b[0m\u001b[0mstep\u001b[0m\u001b[0;34m(\u001b[0m\u001b[0menv\u001b[0m\u001b[0;34m.\u001b[0m\u001b[0maction_space\u001b[0m\u001b[0;34m.\u001b[0m\u001b[0msample\u001b[0m\u001b[0;34m(\u001b[0m\u001b[0;34m)\u001b[0m\u001b[0;34m)\u001b[0m\u001b[0;34m\u001b[0m\u001b[0m\n\u001b[1;32m      4\u001b[0m \u001b[0;34m\u001b[0m\u001b[0m\n\u001b[1;32m      5\u001b[0m \u001b[0mmemory\u001b[0m\u001b[0;34m=\u001b[0m\u001b[0mMemory\u001b[0m\u001b[0;34m(\u001b[0m\u001b[0mmax_size\u001b[0m\u001b[0;34m=\u001b[0m\u001b[0mmemory_size\u001b[0m\u001b[0;34m)\u001b[0m\u001b[0;34m\u001b[0m\u001b[0m\n",
      "\u001b[0;31mNameError\u001b[0m: name 'env' is not defined"
     ]
    }
   ],
   "source": [
    "env.reset()\n",
    "\n",
    "state,reward,done,_=env.step(env.action_space.sample())\n",
    "\n",
    "memory=Memory(max_size=memory_size)\n",
    "\n",
    "for i in range(pretrain_length):\n",
    "    action=env.action_space.sample()\n",
    "    next_state,reward,done,_=env.step(action)\n",
    "    \n",
    "    if done:\n",
    "        next_state=np.zeros(state.shape)\n",
    "        memory.add((state,action,reward,next_state))\n",
    "        \n",
    "        env.reset()\n",
    "        state,reward,done,_=env.step(env.action_space.sample())\n",
    "    else:\n",
    "        memory.add((state,action,reward,next_state))\n",
    "        state=next_state"
   ]
  },
  {
   "cell_type": "code",
   "execution_count": null,
   "metadata": {
    "collapsed": true
   },
   "outputs": [],
   "source": [
    "saver= tf.train.Saver()\n",
    "rewards=[]\n",
    "\n",
    "with tf.Session() as sess:\n",
    "    sess.run(tf.global_variables_initializer())\n",
    "    \n",
    "    step=0\n",
    "    \n",
    "    for episodes in range(1,train_episodes):\n",
    "        total_reward=0\n",
    "        t=0\n",
    "        while t<max_steps:\n",
    "            step=step+1\n",
    "            \n",
    "            explore_p=explore_stop+(explore_start-explore_stop)*np.exp(-decay_rate*step)\n",
    "            if explore_p>np.random.rand():\n",
    "                action=env.action_space.sample()\n",
    "            else:\n",
    "                feedback={mainQN.inputs_:state.reshape((1,*state.shape))}\n",
    "                Qs=sess.run(mainQN.output,feed_dict=feed)\n",
    "                action=np.argmax(Qs)\n",
    "            \n",
    "            next_state,reward,done,=env.step(action)\n",
    "            \n",
    "            total_reward+=reward\n",
    "            \n",
    "            if done:\n",
    "                next_state=np.zeros(state.shape)\n",
    "                \n",
    "                t=max_steps\n",
    "                \n",
    "                print(episodes,total_reward,loss,explore_p)\n",
    "                rewards_list.append((episodes,total_reward))\n",
    "                \n",
    "                memory.add((state,action,reward,next_state))\n",
    "                \n",
    "                env.reset()\n",
    "                \n",
    "                state,reward,done,_=env.step(env.action_space.sample())\n",
    "            else:\n",
    "                memory.add((state,action,reward,next_state))\n",
    "                state=next_state\n",
    "                t=t+1\n",
    "            \n",
    "            batch=memory.sample(batch_size)\n",
    "            states=np.array([each[0] for each in batch])\n",
    "            action=np.array([each[1] for each in batch])\n",
    "            rewards=np.array([each[2] for each in batch])\n",
    "            next_states=np.array([each[3] for each in batch])\n",
    "            \n",
    "            target_Qs=sess.run(mainQN.output,feed_dict={mainQn.inputs_:next_states})\n",
    "            \n",
    "            episode_ends=(next_states==np.zeros(states[0].shape).all(axis=1))\n",
    "            target_Qs[episode_ends]=[0,0]\n",
    "            \n",
    "            targets=rewards+gamma+np.max(target_Qs,axis=1)\n",
    "            loss,_=sess.run([mainQN.loss,mainQN.opt],feed_dict={mainQN.inputs_:states,\n",
    "                                                               mainQN.targets_:targets,\n",
    "                                                               mainQN.actions_:actions})\n",
    "        \n",
    "    saver.save(sess,\"checkpoint.ckpt\")"
   ]
  }
 ],
 "metadata": {
  "kernelspec": {
   "display_name": "Python 3",
   "language": "python",
   "name": "python3"
  },
  "language_info": {
   "codemirror_mode": {
    "name": "ipython",
    "version": 3
   },
   "file_extension": ".py",
   "mimetype": "text/x-python",
   "name": "python",
   "nbconvert_exporter": "python",
   "pygments_lexer": "ipython3",
   "version": "3.5.0"
  }
 },
 "nbformat": 4,
 "nbformat_minor": 2
}
